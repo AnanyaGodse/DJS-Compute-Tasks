{
 "cells": [
  {
   "cell_type": "code",
   "execution_count": 1,
   "id": "f6e4feee",
   "metadata": {},
   "outputs": [
    {
     "name": "stdout",
     "output_type": "stream",
     "text": [
      "3\n",
      "ananyaagodse@gmail.com\n",
      "ishitamehta@abc.com\n",
      "aryang_x.123\n",
      "['ananyaagodse@gmail.com', 'ishitamehta@abc.com']\n"
     ]
    }
   ],
   "source": [
    "def fun(s):\n",
    "    try:\n",
    "        if(\"@\" in s):\n",
    "            s1, s2 = s.split(\"@\")\n",
    "            s1 = s1.replace(\"-\", \"_\")\n",
    "            s3, s4 = s2.split(\".\")\n",
    "            if(s1.isidentifier() is False):\n",
    "                return False\n",
    "            elif(s3.isalnum()is False):\n",
    "                return False\n",
    "            elif(s4.isalpha()is False):\n",
    "                return False\n",
    "            elif(len(s4)>3):\n",
    "                return False\n",
    "            else:\n",
    "                return True\n",
    "        else:\n",
    "            return False             \n",
    "    except ValueError:\n",
    "            return False\n",
    "\n",
    "def filter_mail(emails):\n",
    "    return list(filter(fun, emails))\n",
    "\n",
    "if __name__ == '__main__':\n",
    "    n = int(input())\n",
    "    emails = []\n",
    "    for _ in range(n):\n",
    "        emails.append(input())\n",
    "\n",
    "filtered_emails = filter_mail(emails)\n",
    "filtered_emails.sort()\n",
    "print(filtered_emails)"
   ]
  }
 ],
 "metadata": {
  "kernelspec": {
   "display_name": "Python 3 (ipykernel)",
   "language": "python",
   "name": "python3"
  },
  "language_info": {
   "codemirror_mode": {
    "name": "ipython",
    "version": 3
   },
   "file_extension": ".py",
   "mimetype": "text/x-python",
   "name": "python",
   "nbconvert_exporter": "python",
   "pygments_lexer": "ipython3",
   "version": "3.11.4"
  }
 },
 "nbformat": 4,
 "nbformat_minor": 5
}
