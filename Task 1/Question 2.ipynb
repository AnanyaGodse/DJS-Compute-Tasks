{
 "cells": [
  {
   "cell_type": "code",
   "execution_count": 1,
   "id": "6db0959c",
   "metadata": {},
   "outputs": [
    {
     "name": "stdout",
     "output_type": "stream",
     "text": [
      "ananya\n",
      "a 3\n",
      "n 2\n",
      "y 1\n"
     ]
    }
   ],
   "source": [
    "from collections import Counter\n",
    "\n",
    "s = input()\n",
    "s = sorted(s)\n",
    "count = Counter(s)\n",
    "\n",
    "\n",
    "for key, value in count.most_common(3):\n",
    "    print(key, value)"
   ]
  }
 ],
 "metadata": {
  "kernelspec": {
   "display_name": "Python 3 (ipykernel)",
   "language": "python",
   "name": "python3"
  },
  "language_info": {
   "codemirror_mode": {
    "name": "ipython",
    "version": 3
   },
   "file_extension": ".py",
   "mimetype": "text/x-python",
   "name": "python",
   "nbconvert_exporter": "python",
   "pygments_lexer": "ipython3",
   "version": "3.11.4"
  }
 },
 "nbformat": 4,
 "nbformat_minor": 5
}
