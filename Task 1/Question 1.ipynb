{
 "cells": [
  {
   "cell_type": "code",
   "execution_count": null,
   "id": "a732675b",
   "metadata": {},
   "outputs": [],
   "source": [
    "N, X = input().split()\n",
    "N = int(N)\n",
    "X = int(X)\n",
    "marks = []\n",
    "for i in range(X):\n",
    "    m = input().split()\n",
    "    m = map(float, m)\n",
    "    marks.append(m)\n",
    "    \n",
    "for i in zip(*marks):\n",
    "    avg = (sum(i)/len(i))\n",
    "    print(avg)"
   ]
  }
 ],
 "metadata": {
  "kernelspec": {
   "display_name": "Python 3 (ipykernel)",
   "language": "python",
   "name": "python3"
  },
  "language_info": {
   "codemirror_mode": {
    "name": "ipython",
    "version": 3
   },
   "file_extension": ".py",
   "mimetype": "text/x-python",
   "name": "python",
   "nbconvert_exporter": "python",
   "pygments_lexer": "ipython3",
   "version": "3.11.4"
  }
 },
 "nbformat": 4,
 "nbformat_minor": 5
}
