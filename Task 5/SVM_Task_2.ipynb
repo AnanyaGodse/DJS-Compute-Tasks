{
  "nbformat": 4,
  "nbformat_minor": 0,
  "metadata": {
    "colab": {
      "provenance": [],
      "include_colab_link": true
    },
    "kernelspec": {
      "name": "python3",
      "display_name": "Python 3"
    },
    "language_info": {
      "name": "python"
    }
  },
  "cells": [
    {
      "cell_type": "markdown",
      "metadata": {
        "id": "view-in-github",
        "colab_type": "text"
      },
      "source": [
        "<a href=\"https://colab.research.google.com/github/AnanyaGodse/DJS-Compute-Tasks/blob/main/Task%205/SVM_Task_2.ipynb\" target=\"_parent\"><img src=\"https://colab.research.google.com/assets/colab-badge.svg\" alt=\"Open In Colab\"/></a>"
      ]
    },
    {
      "cell_type": "markdown",
      "source": [
        "##Q1 Import and explore the data\n",
        "Dataset Link: https://drive.google.com/file/d/1tPHOMKD_ef-j8MuynCn2fSpbrL11-J1l/view?usp=sharing\n"
      ],
      "metadata": {
        "id": "aHQLsCXT_yf9"
      }
    },
    {
      "cell_type": "code",
      "source": [
        "import pandas as pd\n",
        "import seaborn as sns\n",
        "from sklearn.model_selection import train_test_split\n",
        "from sklearn.preprocessing import StandardScaler\n",
        "from sklearn.svm import SVC\n",
        "from sklearn.metrics import accuracy_score, confusion_matrix, classification_report"
      ],
      "metadata": {
        "id": "3qN8BeLGqEs-"
      },
      "execution_count": null,
      "outputs": []
    },
    {
      "cell_type": "code",
      "source": [
        "pulsar = pd.read_csv(\"pulsar.txt\")\n",
        "pulsar"
      ],
      "metadata": {
        "colab": {
          "base_uri": "https://localhost:8080/"
        },
        "id": "39eoyfbArGGo",
        "outputId": "0922e6ee-176f-4086-c122-292051b2bfc5"
      },
      "execution_count": null,
      "outputs": [
        {
          "output_type": "execute_result",
          "data": {
            "text/plain": [
              "        Mean of the integrated profile  \\\n",
              "0                           121.156250   \n",
              "1                            76.968750   \n",
              "2                           130.585938   \n",
              "3                           156.398438   \n",
              "4                            84.804688   \n",
              "...                                ...   \n",
              "12523                       124.312500   \n",
              "12524                       115.617188   \n",
              "12525                       116.031250   \n",
              "12526                       135.664062   \n",
              "12527                       120.726562   \n",
              "\n",
              "        Standard deviation of the integrated profile  \\\n",
              "0                                          48.372971   \n",
              "1                                          36.175557   \n",
              "2                                          53.229534   \n",
              "3                                          48.865942   \n",
              "4                                          36.117659   \n",
              "...                                              ...   \n",
              "12523                                      53.179053   \n",
              "12524                                      46.784600   \n",
              "12525                                      43.213846   \n",
              "12526                                      49.933749   \n",
              "12527                                      50.472256   \n",
              "\n",
              "        Excess kurtosis of the integrated profile  \\\n",
              "0                                        0.375485   \n",
              "1                                        0.712898   \n",
              "2                                        0.133408   \n",
              "3                                       -0.215989   \n",
              "4                                        0.825013   \n",
              "...                                           ...   \n",
              "12523                                   -0.012418   \n",
              "12524                                    0.218177   \n",
              "12525                                    0.663456   \n",
              "12526                                   -0.089940   \n",
              "12527                                    0.346178   \n",
              "\n",
              "        Skewness of the integrated profile   Mean of the DM-SNR curve  \\\n",
              "0                                -0.013165                   3.168896   \n",
              "1                                 3.388719                   2.399666   \n",
              "2                                -0.297242                   2.743311   \n",
              "3                                -0.171294                  17.471572   \n",
              "4                                 3.274125                   2.790134   \n",
              "...                                    ...                        ...   \n",
              "12523                            -0.556021                   7.186455   \n",
              "12524                             0.226757                   6.140468   \n",
              "12525                             0.433088                   0.785117   \n",
              "12526                            -0.226726                   3.859532   \n",
              "12527                             0.184797                   0.769231   \n",
              "\n",
              "        Standard deviation of the DM-SNR curve  \\\n",
              "0                                    18.399367   \n",
              "1                                    17.570997   \n",
              "2                                    22.362553   \n",
              "3                                          NaN   \n",
              "4                                    20.618009   \n",
              "...                                        ...   \n",
              "12523                                29.308266   \n",
              "12524                                      NaN   \n",
              "12525                                11.628149   \n",
              "12526                                21.501505   \n",
              "12527                                11.792603   \n",
              "\n",
              "        Excess kurtosis of the DM-SNR curve   Skewness of the DM-SNR curve  \\\n",
              "0                                  7.449874                      65.159298   \n",
              "1                                  9.414652                     102.722975   \n",
              "2                                  8.508364                      74.031324   \n",
              "3                                  2.958066                       7.197842   \n",
              "4                                  8.405008                      76.291128   \n",
              "...                                     ...                            ...   \n",
              "12523                              4.531382                      21.725143   \n",
              "12524                              5.732201                      34.357283   \n",
              "12525                             17.055215                     312.204325   \n",
              "12526                              7.398395                      62.334018   \n",
              "12527                             17.662222                     329.548016   \n",
              "\n",
              "       target_class  \n",
              "0               0.0  \n",
              "1               0.0  \n",
              "2               0.0  \n",
              "3               0.0  \n",
              "4               0.0  \n",
              "...             ...  \n",
              "12523           0.0  \n",
              "12524           0.0  \n",
              "12525           0.0  \n",
              "12526           0.0  \n",
              "12527           0.0  \n",
              "\n",
              "[12528 rows x 9 columns]"
            ],
            "text/html": [
              "\n",
              "  <div id=\"df-543d26a4-a677-4e55-acb6-806087745038\" class=\"colab-df-container\">\n",
              "    <div>\n",
              "<style scoped>\n",
              "    .dataframe tbody tr th:only-of-type {\n",
              "        vertical-align: middle;\n",
              "    }\n",
              "\n",
              "    .dataframe tbody tr th {\n",
              "        vertical-align: top;\n",
              "    }\n",
              "\n",
              "    .dataframe thead th {\n",
              "        text-align: right;\n",
              "    }\n",
              "</style>\n",
              "<table border=\"1\" class=\"dataframe\">\n",
              "  <thead>\n",
              "    <tr style=\"text-align: right;\">\n",
              "      <th></th>\n",
              "      <th>Mean of the integrated profile</th>\n",
              "      <th>Standard deviation of the integrated profile</th>\n",
              "      <th>Excess kurtosis of the integrated profile</th>\n",
              "      <th>Skewness of the integrated profile</th>\n",
              "      <th>Mean of the DM-SNR curve</th>\n",
              "      <th>Standard deviation of the DM-SNR curve</th>\n",
              "      <th>Excess kurtosis of the DM-SNR curve</th>\n",
              "      <th>Skewness of the DM-SNR curve</th>\n",
              "      <th>target_class</th>\n",
              "    </tr>\n",
              "  </thead>\n",
              "  <tbody>\n",
              "    <tr>\n",
              "      <th>0</th>\n",
              "      <td>121.156250</td>\n",
              "      <td>48.372971</td>\n",
              "      <td>0.375485</td>\n",
              "      <td>-0.013165</td>\n",
              "      <td>3.168896</td>\n",
              "      <td>18.399367</td>\n",
              "      <td>7.449874</td>\n",
              "      <td>65.159298</td>\n",
              "      <td>0.0</td>\n",
              "    </tr>\n",
              "    <tr>\n",
              "      <th>1</th>\n",
              "      <td>76.968750</td>\n",
              "      <td>36.175557</td>\n",
              "      <td>0.712898</td>\n",
              "      <td>3.388719</td>\n",
              "      <td>2.399666</td>\n",
              "      <td>17.570997</td>\n",
              "      <td>9.414652</td>\n",
              "      <td>102.722975</td>\n",
              "      <td>0.0</td>\n",
              "    </tr>\n",
              "    <tr>\n",
              "      <th>2</th>\n",
              "      <td>130.585938</td>\n",
              "      <td>53.229534</td>\n",
              "      <td>0.133408</td>\n",
              "      <td>-0.297242</td>\n",
              "      <td>2.743311</td>\n",
              "      <td>22.362553</td>\n",
              "      <td>8.508364</td>\n",
              "      <td>74.031324</td>\n",
              "      <td>0.0</td>\n",
              "    </tr>\n",
              "    <tr>\n",
              "      <th>3</th>\n",
              "      <td>156.398438</td>\n",
              "      <td>48.865942</td>\n",
              "      <td>-0.215989</td>\n",
              "      <td>-0.171294</td>\n",
              "      <td>17.471572</td>\n",
              "      <td>NaN</td>\n",
              "      <td>2.958066</td>\n",
              "      <td>7.197842</td>\n",
              "      <td>0.0</td>\n",
              "    </tr>\n",
              "    <tr>\n",
              "      <th>4</th>\n",
              "      <td>84.804688</td>\n",
              "      <td>36.117659</td>\n",
              "      <td>0.825013</td>\n",
              "      <td>3.274125</td>\n",
              "      <td>2.790134</td>\n",
              "      <td>20.618009</td>\n",
              "      <td>8.405008</td>\n",
              "      <td>76.291128</td>\n",
              "      <td>0.0</td>\n",
              "    </tr>\n",
              "    <tr>\n",
              "      <th>...</th>\n",
              "      <td>...</td>\n",
              "      <td>...</td>\n",
              "      <td>...</td>\n",
              "      <td>...</td>\n",
              "      <td>...</td>\n",
              "      <td>...</td>\n",
              "      <td>...</td>\n",
              "      <td>...</td>\n",
              "      <td>...</td>\n",
              "    </tr>\n",
              "    <tr>\n",
              "      <th>12523</th>\n",
              "      <td>124.312500</td>\n",
              "      <td>53.179053</td>\n",
              "      <td>-0.012418</td>\n",
              "      <td>-0.556021</td>\n",
              "      <td>7.186455</td>\n",
              "      <td>29.308266</td>\n",
              "      <td>4.531382</td>\n",
              "      <td>21.725143</td>\n",
              "      <td>0.0</td>\n",
              "    </tr>\n",
              "    <tr>\n",
              "      <th>12524</th>\n",
              "      <td>115.617188</td>\n",
              "      <td>46.784600</td>\n",
              "      <td>0.218177</td>\n",
              "      <td>0.226757</td>\n",
              "      <td>6.140468</td>\n",
              "      <td>NaN</td>\n",
              "      <td>5.732201</td>\n",
              "      <td>34.357283</td>\n",
              "      <td>0.0</td>\n",
              "    </tr>\n",
              "    <tr>\n",
              "      <th>12525</th>\n",
              "      <td>116.031250</td>\n",
              "      <td>43.213846</td>\n",
              "      <td>0.663456</td>\n",
              "      <td>0.433088</td>\n",
              "      <td>0.785117</td>\n",
              "      <td>11.628149</td>\n",
              "      <td>17.055215</td>\n",
              "      <td>312.204325</td>\n",
              "      <td>0.0</td>\n",
              "    </tr>\n",
              "    <tr>\n",
              "      <th>12526</th>\n",
              "      <td>135.664062</td>\n",
              "      <td>49.933749</td>\n",
              "      <td>-0.089940</td>\n",
              "      <td>-0.226726</td>\n",
              "      <td>3.859532</td>\n",
              "      <td>21.501505</td>\n",
              "      <td>7.398395</td>\n",
              "      <td>62.334018</td>\n",
              "      <td>0.0</td>\n",
              "    </tr>\n",
              "    <tr>\n",
              "      <th>12527</th>\n",
              "      <td>120.726562</td>\n",
              "      <td>50.472256</td>\n",
              "      <td>0.346178</td>\n",
              "      <td>0.184797</td>\n",
              "      <td>0.769231</td>\n",
              "      <td>11.792603</td>\n",
              "      <td>17.662222</td>\n",
              "      <td>329.548016</td>\n",
              "      <td>0.0</td>\n",
              "    </tr>\n",
              "  </tbody>\n",
              "</table>\n",
              "<p>12528 rows × 9 columns</p>\n",
              "</div>\n",
              "    <div class=\"colab-df-buttons\">\n",
              "\n",
              "  <div class=\"colab-df-container\">\n",
              "    <button class=\"colab-df-convert\" onclick=\"convertToInteractive('df-543d26a4-a677-4e55-acb6-806087745038')\"\n",
              "            title=\"Convert this dataframe to an interactive table.\"\n",
              "            style=\"display:none;\">\n",
              "\n",
              "  <svg xmlns=\"http://www.w3.org/2000/svg\" height=\"24px\" viewBox=\"0 -960 960 960\">\n",
              "    <path d=\"M120-120v-720h720v720H120Zm60-500h600v-160H180v160Zm220 220h160v-160H400v160Zm0 220h160v-160H400v160ZM180-400h160v-160H180v160Zm440 0h160v-160H620v160ZM180-180h160v-160H180v160Zm440 0h160v-160H620v160Z\"/>\n",
              "  </svg>\n",
              "    </button>\n",
              "\n",
              "  <style>\n",
              "    .colab-df-container {\n",
              "      display:flex;\n",
              "      gap: 12px;\n",
              "    }\n",
              "\n",
              "    .colab-df-convert {\n",
              "      background-color: #E8F0FE;\n",
              "      border: none;\n",
              "      border-radius: 50%;\n",
              "      cursor: pointer;\n",
              "      display: none;\n",
              "      fill: #1967D2;\n",
              "      height: 32px;\n",
              "      padding: 0 0 0 0;\n",
              "      width: 32px;\n",
              "    }\n",
              "\n",
              "    .colab-df-convert:hover {\n",
              "      background-color: #E2EBFA;\n",
              "      box-shadow: 0px 1px 2px rgba(60, 64, 67, 0.3), 0px 1px 3px 1px rgba(60, 64, 67, 0.15);\n",
              "      fill: #174EA6;\n",
              "    }\n",
              "\n",
              "    .colab-df-buttons div {\n",
              "      margin-bottom: 4px;\n",
              "    }\n",
              "\n",
              "    [theme=dark] .colab-df-convert {\n",
              "      background-color: #3B4455;\n",
              "      fill: #D2E3FC;\n",
              "    }\n",
              "\n",
              "    [theme=dark] .colab-df-convert:hover {\n",
              "      background-color: #434B5C;\n",
              "      box-shadow: 0px 1px 3px 1px rgba(0, 0, 0, 0.15);\n",
              "      filter: drop-shadow(0px 1px 2px rgba(0, 0, 0, 0.3));\n",
              "      fill: #FFFFFF;\n",
              "    }\n",
              "  </style>\n",
              "\n",
              "    <script>\n",
              "      const buttonEl =\n",
              "        document.querySelector('#df-543d26a4-a677-4e55-acb6-806087745038 button.colab-df-convert');\n",
              "      buttonEl.style.display =\n",
              "        google.colab.kernel.accessAllowed ? 'block' : 'none';\n",
              "\n",
              "      async function convertToInteractive(key) {\n",
              "        const element = document.querySelector('#df-543d26a4-a677-4e55-acb6-806087745038');\n",
              "        const dataTable =\n",
              "          await google.colab.kernel.invokeFunction('convertToInteractive',\n",
              "                                                    [key], {});\n",
              "        if (!dataTable) return;\n",
              "\n",
              "        const docLinkHtml = 'Like what you see? Visit the ' +\n",
              "          '<a target=\"_blank\" href=https://colab.research.google.com/notebooks/data_table.ipynb>data table notebook</a>'\n",
              "          + ' to learn more about interactive tables.';\n",
              "        element.innerHTML = '';\n",
              "        dataTable['output_type'] = 'display_data';\n",
              "        await google.colab.output.renderOutput(dataTable, element);\n",
              "        const docLink = document.createElement('div');\n",
              "        docLink.innerHTML = docLinkHtml;\n",
              "        element.appendChild(docLink);\n",
              "      }\n",
              "    </script>\n",
              "  </div>\n",
              "\n",
              "\n",
              "<div id=\"df-34f0336d-bc18-4d7f-937e-3b7ab996d4c0\">\n",
              "  <button class=\"colab-df-quickchart\" onclick=\"quickchart('df-34f0336d-bc18-4d7f-937e-3b7ab996d4c0')\"\n",
              "            title=\"Suggest charts\"\n",
              "            style=\"display:none;\">\n",
              "\n",
              "<svg xmlns=\"http://www.w3.org/2000/svg\" height=\"24px\"viewBox=\"0 0 24 24\"\n",
              "     width=\"24px\">\n",
              "    <g>\n",
              "        <path d=\"M19 3H5c-1.1 0-2 .9-2 2v14c0 1.1.9 2 2 2h14c1.1 0 2-.9 2-2V5c0-1.1-.9-2-2-2zM9 17H7v-7h2v7zm4 0h-2V7h2v10zm4 0h-2v-4h2v4z\"/>\n",
              "    </g>\n",
              "</svg>\n",
              "  </button>\n",
              "\n",
              "<style>\n",
              "  .colab-df-quickchart {\n",
              "      --bg-color: #E8F0FE;\n",
              "      --fill-color: #1967D2;\n",
              "      --hover-bg-color: #E2EBFA;\n",
              "      --hover-fill-color: #174EA6;\n",
              "      --disabled-fill-color: #AAA;\n",
              "      --disabled-bg-color: #DDD;\n",
              "  }\n",
              "\n",
              "  [theme=dark] .colab-df-quickchart {\n",
              "      --bg-color: #3B4455;\n",
              "      --fill-color: #D2E3FC;\n",
              "      --hover-bg-color: #434B5C;\n",
              "      --hover-fill-color: #FFFFFF;\n",
              "      --disabled-bg-color: #3B4455;\n",
              "      --disabled-fill-color: #666;\n",
              "  }\n",
              "\n",
              "  .colab-df-quickchart {\n",
              "    background-color: var(--bg-color);\n",
              "    border: none;\n",
              "    border-radius: 50%;\n",
              "    cursor: pointer;\n",
              "    display: none;\n",
              "    fill: var(--fill-color);\n",
              "    height: 32px;\n",
              "    padding: 0;\n",
              "    width: 32px;\n",
              "  }\n",
              "\n",
              "  .colab-df-quickchart:hover {\n",
              "    background-color: var(--hover-bg-color);\n",
              "    box-shadow: 0 1px 2px rgba(60, 64, 67, 0.3), 0 1px 3px 1px rgba(60, 64, 67, 0.15);\n",
              "    fill: var(--button-hover-fill-color);\n",
              "  }\n",
              "\n",
              "  .colab-df-quickchart-complete:disabled,\n",
              "  .colab-df-quickchart-complete:disabled:hover {\n",
              "    background-color: var(--disabled-bg-color);\n",
              "    fill: var(--disabled-fill-color);\n",
              "    box-shadow: none;\n",
              "  }\n",
              "\n",
              "  .colab-df-spinner {\n",
              "    border: 2px solid var(--fill-color);\n",
              "    border-color: transparent;\n",
              "    border-bottom-color: var(--fill-color);\n",
              "    animation:\n",
              "      spin 1s steps(1) infinite;\n",
              "  }\n",
              "\n",
              "  @keyframes spin {\n",
              "    0% {\n",
              "      border-color: transparent;\n",
              "      border-bottom-color: var(--fill-color);\n",
              "      border-left-color: var(--fill-color);\n",
              "    }\n",
              "    20% {\n",
              "      border-color: transparent;\n",
              "      border-left-color: var(--fill-color);\n",
              "      border-top-color: var(--fill-color);\n",
              "    }\n",
              "    30% {\n",
              "      border-color: transparent;\n",
              "      border-left-color: var(--fill-color);\n",
              "      border-top-color: var(--fill-color);\n",
              "      border-right-color: var(--fill-color);\n",
              "    }\n",
              "    40% {\n",
              "      border-color: transparent;\n",
              "      border-right-color: var(--fill-color);\n",
              "      border-top-color: var(--fill-color);\n",
              "    }\n",
              "    60% {\n",
              "      border-color: transparent;\n",
              "      border-right-color: var(--fill-color);\n",
              "    }\n",
              "    80% {\n",
              "      border-color: transparent;\n",
              "      border-right-color: var(--fill-color);\n",
              "      border-bottom-color: var(--fill-color);\n",
              "    }\n",
              "    90% {\n",
              "      border-color: transparent;\n",
              "      border-bottom-color: var(--fill-color);\n",
              "    }\n",
              "  }\n",
              "</style>\n",
              "\n",
              "  <script>\n",
              "    async function quickchart(key) {\n",
              "      const quickchartButtonEl =\n",
              "        document.querySelector('#' + key + ' button');\n",
              "      quickchartButtonEl.disabled = true;  // To prevent multiple clicks.\n",
              "      quickchartButtonEl.classList.add('colab-df-spinner');\n",
              "      try {\n",
              "        const charts = await google.colab.kernel.invokeFunction(\n",
              "            'suggestCharts', [key], {});\n",
              "      } catch (error) {\n",
              "        console.error('Error during call to suggestCharts:', error);\n",
              "      }\n",
              "      quickchartButtonEl.classList.remove('colab-df-spinner');\n",
              "      quickchartButtonEl.classList.add('colab-df-quickchart-complete');\n",
              "    }\n",
              "    (() => {\n",
              "      let quickchartButtonEl =\n",
              "        document.querySelector('#df-34f0336d-bc18-4d7f-937e-3b7ab996d4c0 button');\n",
              "      quickchartButtonEl.style.display =\n",
              "        google.colab.kernel.accessAllowed ? 'block' : 'none';\n",
              "    })();\n",
              "  </script>\n",
              "</div>\n",
              "\n",
              "  <div id=\"id_07f360fb-5797-4827-84d8-7c381c1a72ec\">\n",
              "    <style>\n",
              "      .colab-df-generate {\n",
              "        background-color: #E8F0FE;\n",
              "        border: none;\n",
              "        border-radius: 50%;\n",
              "        cursor: pointer;\n",
              "        display: none;\n",
              "        fill: #1967D2;\n",
              "        height: 32px;\n",
              "        padding: 0 0 0 0;\n",
              "        width: 32px;\n",
              "      }\n",
              "\n",
              "      .colab-df-generate:hover {\n",
              "        background-color: #E2EBFA;\n",
              "        box-shadow: 0px 1px 2px rgba(60, 64, 67, 0.3), 0px 1px 3px 1px rgba(60, 64, 67, 0.15);\n",
              "        fill: #174EA6;\n",
              "      }\n",
              "\n",
              "      [theme=dark] .colab-df-generate {\n",
              "        background-color: #3B4455;\n",
              "        fill: #D2E3FC;\n",
              "      }\n",
              "\n",
              "      [theme=dark] .colab-df-generate:hover {\n",
              "        background-color: #434B5C;\n",
              "        box-shadow: 0px 1px 3px 1px rgba(0, 0, 0, 0.15);\n",
              "        filter: drop-shadow(0px 1px 2px rgba(0, 0, 0, 0.3));\n",
              "        fill: #FFFFFF;\n",
              "      }\n",
              "    </style>\n",
              "    <button class=\"colab-df-generate\" onclick=\"generateWithVariable('pulsar')\"\n",
              "            title=\"Generate code using this dataframe.\"\n",
              "            style=\"display:none;\">\n",
              "\n",
              "  <svg xmlns=\"http://www.w3.org/2000/svg\" height=\"24px\"viewBox=\"0 0 24 24\"\n",
              "       width=\"24px\">\n",
              "    <path d=\"M7,19H8.4L18.45,9,17,7.55,7,17.6ZM5,21V16.75L18.45,3.32a2,2,0,0,1,2.83,0l1.4,1.43a1.91,1.91,0,0,1,.58,1.4,1.91,1.91,0,0,1-.58,1.4L9.25,21ZM18.45,9,17,7.55Zm-12,3A5.31,5.31,0,0,0,4.9,8.1,5.31,5.31,0,0,0,1,6.5,5.31,5.31,0,0,0,4.9,4.9,5.31,5.31,0,0,0,6.5,1,5.31,5.31,0,0,0,8.1,4.9,5.31,5.31,0,0,0,12,6.5,5.46,5.46,0,0,0,6.5,12Z\"/>\n",
              "  </svg>\n",
              "    </button>\n",
              "    <script>\n",
              "      (() => {\n",
              "      const buttonEl =\n",
              "        document.querySelector('#id_07f360fb-5797-4827-84d8-7c381c1a72ec button.colab-df-generate');\n",
              "      buttonEl.style.display =\n",
              "        google.colab.kernel.accessAllowed ? 'block' : 'none';\n",
              "\n",
              "      buttonEl.onclick = () => {\n",
              "        google.colab.notebook.generateWithVariable('pulsar');\n",
              "      }\n",
              "      })();\n",
              "    </script>\n",
              "  </div>\n",
              "\n",
              "    </div>\n",
              "  </div>\n"
            ]
          },
          "metadata": {},
          "execution_count": 2
        }
      ]
    },
    {
      "cell_type": "markdown",
      "source": [
        "##Q2 Carry out data pre-processing"
      ],
      "metadata": {
        "id": "naklkC17ALnZ"
      }
    },
    {
      "cell_type": "code",
      "source": [
        "pulsar.isnull().sum()"
      ],
      "metadata": {
        "colab": {
          "base_uri": "https://localhost:8080/"
        },
        "id": "_051cf-crRtj",
        "outputId": "e6083b88-31b2-462e-c7fa-e32516156337"
      },
      "execution_count": null,
      "outputs": [
        {
          "output_type": "execute_result",
          "data": {
            "text/plain": [
              " Mean of the integrated profile                     0\n",
              " Standard deviation of the integrated profile       0\n",
              " Excess kurtosis of the integrated profile       1735\n",
              " Skewness of the integrated profile                 0\n",
              " Mean of the DM-SNR curve                           0\n",
              " Standard deviation of the DM-SNR curve          1178\n",
              " Excess kurtosis of the DM-SNR curve                0\n",
              " Skewness of the DM-SNR curve                     625\n",
              "target_class                                        0\n",
              "dtype: int64"
            ]
          },
          "metadata": {},
          "execution_count": 3
        }
      ]
    },
    {
      "cell_type": "code",
      "source": [
        "pulsar.dropna(inplace=True)\n",
        "pulsar.reset_index(drop=True, inplace=True)\n",
        "pulsar.shape"
      ],
      "metadata": {
        "colab": {
          "base_uri": "https://localhost:8080/"
        },
        "id": "WorEorPCrYPL",
        "outputId": "705013b8-623e-4bef-da47-523e737b2f69"
      },
      "execution_count": null,
      "outputs": [
        {
          "output_type": "execute_result",
          "data": {
            "text/plain": [
              "(9273, 9)"
            ]
          },
          "metadata": {},
          "execution_count": 4
        }
      ]
    },
    {
      "cell_type": "code",
      "source": [
        "pulsar.info()"
      ],
      "metadata": {
        "colab": {
          "base_uri": "https://localhost:8080/"
        },
        "id": "NpwavFeDsF7s",
        "outputId": "b2a08bcd-59b4-47ad-e81c-88aa0e47b5da"
      },
      "execution_count": null,
      "outputs": [
        {
          "output_type": "stream",
          "name": "stdout",
          "text": [
            "<class 'pandas.core.frame.DataFrame'>\n",
            "RangeIndex: 9273 entries, 0 to 9272\n",
            "Data columns (total 9 columns):\n",
            " #   Column                                         Non-Null Count  Dtype  \n",
            "---  ------                                         --------------  -----  \n",
            " 0    Mean of the integrated profile                9273 non-null   float64\n",
            " 1    Standard deviation of the integrated profile  9273 non-null   float64\n",
            " 2    Excess kurtosis of the integrated profile     9273 non-null   float64\n",
            " 3    Skewness of the integrated profile            9273 non-null   float64\n",
            " 4    Mean of the DM-SNR curve                      9273 non-null   float64\n",
            " 5    Standard deviation of the DM-SNR curve        9273 non-null   float64\n",
            " 6    Excess kurtosis of the DM-SNR curve           9273 non-null   float64\n",
            " 7    Skewness of the DM-SNR curve                  9273 non-null   float64\n",
            " 8   target_class                                   9273 non-null   float64\n",
            "dtypes: float64(9)\n",
            "memory usage: 652.1 KB\n"
          ]
        }
      ]
    },
    {
      "cell_type": "markdown",
      "source": [
        "##Q3 Split the data in training and test set"
      ],
      "metadata": {
        "id": "ris4X7S3Bg3E"
      }
    },
    {
      "cell_type": "code",
      "source": [
        "X = pulsar.iloc[:, :8]\n",
        "y = pulsar.iloc[ :, 8]"
      ],
      "metadata": {
        "id": "pciRVWagsQEG"
      },
      "execution_count": null,
      "outputs": []
    },
    {
      "cell_type": "code",
      "source": [
        "X_train, X_test, y_train, y_test = train_test_split(X, y, test_size = 0.2, random_state = 7)"
      ],
      "metadata": {
        "id": "GUKdz9q0tQFD"
      },
      "execution_count": null,
      "outputs": []
    },
    {
      "cell_type": "markdown",
      "source": [
        "##Q4 Scale the data using Standard Scaler"
      ],
      "metadata": {
        "id": "qfCEvxCTAWMV"
      }
    },
    {
      "cell_type": "code",
      "source": [
        "std_scaler = StandardScaler()\n",
        "X_train = std_scaler.fit_transform(X_train)\n",
        "X_test = std_scaler.transform(X_test)"
      ],
      "metadata": {
        "id": "nr6-D44vuXiN"
      },
      "execution_count": null,
      "outputs": []
    },
    {
      "cell_type": "markdown",
      "source": [
        "####Q4a According to you, why is scaling important in SVM? What are the different methods for scaling the data available in sklearn.preprocessing?"
      ],
      "metadata": {
        "id": "9TiEh5yjAvmi"
      }
    },
    {
      "cell_type": "markdown",
      "source": [
        "Feature scaling is a technique used to bring all the different features in a dataset onto a similar scale. When this is not done, algorithms like SVM that consider distances between observations assign more importance to the features with a larger scale, introducing unnecessary bias.\n",
        "\n",
        "sklearn.preprocessing provides the following methods for scaling:\n",
        "1. StandardScaler\n",
        "2. MinMaxScaler\n",
        "3. MaxAbsScaler\n",
        "4. RobustScaler"
      ],
      "metadata": {
        "id": "rsK-t6nLreiw"
      }
    },
    {
      "cell_type": "markdown",
      "source": [
        "##Q5 Implement SVM"
      ],
      "metadata": {
        "id": "fmrpw-xPAT5i"
      }
    },
    {
      "cell_type": "markdown",
      "source": [
        "Different types of kernels in SVM:\n",
        "https://www.kaggle.com/discussions/questions-and-answers/326336\n"
      ],
      "metadata": {
        "id": "hnSv4K9cFBnk"
      }
    },
    {
      "cell_type": "markdown",
      "source": [
        "With default parameters"
      ],
      "metadata": {
        "id": "AkYUmJKkxFyi"
      }
    },
    {
      "cell_type": "code",
      "source": [
        "svm = SVC()\n",
        "svm.fit(X_train, y_train)"
      ],
      "metadata": {
        "colab": {
          "base_uri": "https://localhost:8080/"
        },
        "id": "4ox4PeTXxEdW",
        "outputId": "b4d37d9a-7b1e-4580-ff2e-e3267b4cfe5b"
      },
      "execution_count": null,
      "outputs": [
        {
          "output_type": "execute_result",
          "data": {
            "text/plain": [
              "SVC()"
            ],
            "text/html": [
              "<style>#sk-container-id-1 {color: black;background-color: white;}#sk-container-id-1 pre{padding: 0;}#sk-container-id-1 div.sk-toggleable {background-color: white;}#sk-container-id-1 label.sk-toggleable__label {cursor: pointer;display: block;width: 100%;margin-bottom: 0;padding: 0.3em;box-sizing: border-box;text-align: center;}#sk-container-id-1 label.sk-toggleable__label-arrow:before {content: \"▸\";float: left;margin-right: 0.25em;color: #696969;}#sk-container-id-1 label.sk-toggleable__label-arrow:hover:before {color: black;}#sk-container-id-1 div.sk-estimator:hover label.sk-toggleable__label-arrow:before {color: black;}#sk-container-id-1 div.sk-toggleable__content {max-height: 0;max-width: 0;overflow: hidden;text-align: left;background-color: #f0f8ff;}#sk-container-id-1 div.sk-toggleable__content pre {margin: 0.2em;color: black;border-radius: 0.25em;background-color: #f0f8ff;}#sk-container-id-1 input.sk-toggleable__control:checked~div.sk-toggleable__content {max-height: 200px;max-width: 100%;overflow: auto;}#sk-container-id-1 input.sk-toggleable__control:checked~label.sk-toggleable__label-arrow:before {content: \"▾\";}#sk-container-id-1 div.sk-estimator input.sk-toggleable__control:checked~label.sk-toggleable__label {background-color: #d4ebff;}#sk-container-id-1 div.sk-label input.sk-toggleable__control:checked~label.sk-toggleable__label {background-color: #d4ebff;}#sk-container-id-1 input.sk-hidden--visually {border: 0;clip: rect(1px 1px 1px 1px);clip: rect(1px, 1px, 1px, 1px);height: 1px;margin: -1px;overflow: hidden;padding: 0;position: absolute;width: 1px;}#sk-container-id-1 div.sk-estimator {font-family: monospace;background-color: #f0f8ff;border: 1px dotted black;border-radius: 0.25em;box-sizing: border-box;margin-bottom: 0.5em;}#sk-container-id-1 div.sk-estimator:hover {background-color: #d4ebff;}#sk-container-id-1 div.sk-parallel-item::after {content: \"\";width: 100%;border-bottom: 1px solid gray;flex-grow: 1;}#sk-container-id-1 div.sk-label:hover label.sk-toggleable__label {background-color: #d4ebff;}#sk-container-id-1 div.sk-serial::before {content: \"\";position: absolute;border-left: 1px solid gray;box-sizing: border-box;top: 0;bottom: 0;left: 50%;z-index: 0;}#sk-container-id-1 div.sk-serial {display: flex;flex-direction: column;align-items: center;background-color: white;padding-right: 0.2em;padding-left: 0.2em;position: relative;}#sk-container-id-1 div.sk-item {position: relative;z-index: 1;}#sk-container-id-1 div.sk-parallel {display: flex;align-items: stretch;justify-content: center;background-color: white;position: relative;}#sk-container-id-1 div.sk-item::before, #sk-container-id-1 div.sk-parallel-item::before {content: \"\";position: absolute;border-left: 1px solid gray;box-sizing: border-box;top: 0;bottom: 0;left: 50%;z-index: -1;}#sk-container-id-1 div.sk-parallel-item {display: flex;flex-direction: column;z-index: 1;position: relative;background-color: white;}#sk-container-id-1 div.sk-parallel-item:first-child::after {align-self: flex-end;width: 50%;}#sk-container-id-1 div.sk-parallel-item:last-child::after {align-self: flex-start;width: 50%;}#sk-container-id-1 div.sk-parallel-item:only-child::after {width: 0;}#sk-container-id-1 div.sk-dashed-wrapped {border: 1px dashed gray;margin: 0 0.4em 0.5em 0.4em;box-sizing: border-box;padding-bottom: 0.4em;background-color: white;}#sk-container-id-1 div.sk-label label {font-family: monospace;font-weight: bold;display: inline-block;line-height: 1.2em;}#sk-container-id-1 div.sk-label-container {text-align: center;}#sk-container-id-1 div.sk-container {/* jupyter's `normalize.less` sets `[hidden] { display: none; }` but bootstrap.min.css set `[hidden] { display: none !important; }` so we also need the `!important` here to be able to override the default hidden behavior on the sphinx rendered scikit-learn.org. See: https://github.com/scikit-learn/scikit-learn/issues/21755 */display: inline-block !important;position: relative;}#sk-container-id-1 div.sk-text-repr-fallback {display: none;}</style><div id=\"sk-container-id-1\" class=\"sk-top-container\"><div class=\"sk-text-repr-fallback\"><pre>SVC()</pre><b>In a Jupyter environment, please rerun this cell to show the HTML representation or trust the notebook. <br />On GitHub, the HTML representation is unable to render, please try loading this page with nbviewer.org.</b></div><div class=\"sk-container\" hidden><div class=\"sk-item\"><div class=\"sk-estimator sk-toggleable\"><input class=\"sk-toggleable__control sk-hidden--visually\" id=\"sk-estimator-id-1\" type=\"checkbox\" checked><label for=\"sk-estimator-id-1\" class=\"sk-toggleable__label sk-toggleable__label-arrow\">SVC</label><div class=\"sk-toggleable__content\"><pre>SVC()</pre></div></div></div></div></div>"
            ]
          },
          "metadata": {},
          "execution_count": 9
        }
      ]
    },
    {
      "cell_type": "code",
      "source": [
        "y_pred_svm = svm.predict(X_test)"
      ],
      "metadata": {
        "id": "TCIeRqEJx7Fb"
      },
      "execution_count": null,
      "outputs": []
    },
    {
      "cell_type": "code",
      "source": [
        "svm_acc_score = accuracy_score(y_test, y_pred_svm)\n",
        "svm_acc_score"
      ],
      "metadata": {
        "colab": {
          "base_uri": "https://localhost:8080/"
        },
        "id": "CfB4HR-6yDFE",
        "outputId": "b07c829a-dcc3-4371-cb1b-abb71294fd77"
      },
      "execution_count": null,
      "outputs": [
        {
          "output_type": "execute_result",
          "data": {
            "text/plain": [
              "0.9762803234501348"
            ]
          },
          "metadata": {},
          "execution_count": 11
        }
      ]
    },
    {
      "cell_type": "code",
      "source": [
        "svm_cm = confusion_matrix(y_test, y_pred_svm)\n",
        "print(svm_cm)"
      ],
      "metadata": {
        "colab": {
          "base_uri": "https://localhost:8080/"
        },
        "id": "-eghKrodyP6J",
        "outputId": "4ae56344-c9b2-4d5e-c525-7946c517346c"
      },
      "execution_count": null,
      "outputs": [
        {
          "output_type": "stream",
          "name": "stdout",
          "text": [
            "[[1670    8]\n",
            " [  36  141]]\n"
          ]
        }
      ]
    },
    {
      "cell_type": "code",
      "source": [
        "svm_cr = classification_report(y_test, y_pred_svm)\n",
        "print(svm_cr)"
      ],
      "metadata": {
        "colab": {
          "base_uri": "https://localhost:8080/"
        },
        "id": "xBn1UPmIyZK5",
        "outputId": "43340aac-686d-40b1-9daf-db19fb34fced"
      },
      "execution_count": null,
      "outputs": [
        {
          "output_type": "stream",
          "name": "stdout",
          "text": [
            "              precision    recall  f1-score   support\n",
            "\n",
            "         0.0       0.98      1.00      0.99      1678\n",
            "         1.0       0.95      0.80      0.87       177\n",
            "\n",
            "    accuracy                           0.98      1855\n",
            "   macro avg       0.96      0.90      0.93      1855\n",
            "weighted avg       0.98      0.98      0.98      1855\n",
            "\n"
          ]
        }
      ]
    },
    {
      "cell_type": "markdown",
      "source": [
        "###Q5a Linear SVM\n",
        "\n",
        "Apply Linear SVM for costs (C) = [0.1, 1, 10, 100, 1000], predict for the test set and check f1 score for each of the costs. State the best cost"
      ],
      "metadata": {
        "id": "QXZCpBvDAZIQ"
      }
    },
    {
      "cell_type": "code",
      "source": [
        "costs = [0.1, 1, 10, 100, 1000]\n",
        "for i in range(len(costs)):\n",
        "  lin_svm = SVC(kernel='linear', C=costs[i])\n",
        "  lin_svm.fit(X_train, y_train)\n",
        "\n",
        "  y_pred_lin_svm = lin_svm.predict(X_test)\n",
        "\n",
        "  print(f\"Cost = {costs[i]}\")\n",
        "\n",
        "  lin_svm_acc_score = accuracy_score(y_test, y_pred_lin_svm)\n",
        "  print(f\"Accuracy Score: \\n {lin_svm_acc_score} \\n\")\n",
        "\n",
        "  lin_svm_cm = confusion_matrix(y_test, y_pred_lin_svm)\n",
        "  print(f\"Confusion Matrix: \\n{lin_svm_cm} \\n\")\n",
        "\n",
        "  lin_svm_cr = classification_report(y_test, y_pred_lin_svm)\n",
        "  print(f\"Classification Report: \\n{lin_svm_cr} \\n\")\n",
        "\n"
      ],
      "metadata": {
        "colab": {
          "base_uri": "https://localhost:8080/"
        },
        "id": "35i_imZb_SEC",
        "outputId": "e35b8ef4-2f26-437b-a387-0dfd815dd0d5"
      },
      "execution_count": null,
      "outputs": [
        {
          "output_type": "stream",
          "name": "stdout",
          "text": [
            "Cost = 0.1\n",
            "Accuracy Score: \n",
            " 0.9735849056603774 \n",
            "\n",
            "Confusion Matrix: \n",
            "[[1673    5]\n",
            " [  44  133]] \n",
            "\n",
            "Classification Report: \n",
            "              precision    recall  f1-score   support\n",
            "\n",
            "         0.0       0.97      1.00      0.99      1678\n",
            "         1.0       0.96      0.75      0.84       177\n",
            "\n",
            "    accuracy                           0.97      1855\n",
            "   macro avg       0.97      0.87      0.92      1855\n",
            "weighted avg       0.97      0.97      0.97      1855\n",
            " \n",
            "\n",
            "Cost = 1\n",
            "Accuracy Score: \n",
            " 0.9746630727762803 \n",
            "\n",
            "Confusion Matrix: \n",
            "[[1673    5]\n",
            " [  42  135]] \n",
            "\n",
            "Classification Report: \n",
            "              precision    recall  f1-score   support\n",
            "\n",
            "         0.0       0.98      1.00      0.99      1678\n",
            "         1.0       0.96      0.76      0.85       177\n",
            "\n",
            "    accuracy                           0.97      1855\n",
            "   macro avg       0.97      0.88      0.92      1855\n",
            "weighted avg       0.97      0.97      0.97      1855\n",
            " \n",
            "\n",
            "Cost = 10\n",
            "Accuracy Score: \n",
            " 0.9752021563342318 \n",
            "\n",
            "Confusion Matrix: \n",
            "[[1673    5]\n",
            " [  41  136]] \n",
            "\n",
            "Classification Report: \n",
            "              precision    recall  f1-score   support\n",
            "\n",
            "         0.0       0.98      1.00      0.99      1678\n",
            "         1.0       0.96      0.77      0.86       177\n",
            "\n",
            "    accuracy                           0.98      1855\n",
            "   macro avg       0.97      0.88      0.92      1855\n",
            "weighted avg       0.97      0.98      0.97      1855\n",
            " \n",
            "\n",
            "Cost = 100\n",
            "Accuracy Score: \n",
            " 0.9746630727762803 \n",
            "\n",
            "Confusion Matrix: \n",
            "[[1673    5]\n",
            " [  42  135]] \n",
            "\n",
            "Classification Report: \n",
            "              precision    recall  f1-score   support\n",
            "\n",
            "         0.0       0.98      1.00      0.99      1678\n",
            "         1.0       0.96      0.76      0.85       177\n",
            "\n",
            "    accuracy                           0.97      1855\n",
            "   macro avg       0.97      0.88      0.92      1855\n",
            "weighted avg       0.97      0.97      0.97      1855\n",
            " \n",
            "\n",
            "Cost = 1000\n",
            "Accuracy Score: \n",
            " 0.9752021563342318 \n",
            "\n",
            "Confusion Matrix: \n",
            "[[1673    5]\n",
            " [  41  136]] \n",
            "\n",
            "Classification Report: \n",
            "              precision    recall  f1-score   support\n",
            "\n",
            "         0.0       0.98      1.00      0.99      1678\n",
            "         1.0       0.96      0.77      0.86       177\n",
            "\n",
            "    accuracy                           0.98      1855\n",
            "   macro avg       0.97      0.88      0.92      1855\n",
            "weighted avg       0.97      0.98      0.97      1855\n",
            " \n",
            "\n"
          ]
        }
      ]
    },
    {
      "cell_type": "markdown",
      "source": [
        "costs 10 and 1000 are the best."
      ],
      "metadata": {
        "id": "8UYfnxsmt8_T"
      }
    },
    {
      "cell_type": "markdown",
      "source": [
        "###Q5b Polynomial Kernel"
      ],
      "metadata": {
        "id": "ZfPGIeT6EO1e"
      }
    },
    {
      "cell_type": "markdown",
      "source": [
        "Apply Linear SVM for degrees = [1,2,3,4,5], predict for the test set and check f1 score for each of the degrees. State the best degree."
      ],
      "metadata": {
        "id": "3vwpxFdTEOx3"
      }
    },
    {
      "cell_type": "code",
      "source": [
        "degrees = [1, 2, 3, 4, 5]\n",
        "for i in range(len(degrees)):\n",
        "  poly_svm = SVC(kernel='poly', degree=degrees[i])\n",
        "  poly_svm.fit(X_train, y_train)\n",
        "\n",
        "  y_pred_poly_svm = poly_svm.predict(X_test)\n",
        "\n",
        "  print(f\"Degree = {degrees[i]}\")\n",
        "\n",
        "  poly_svm_acc_score = accuracy_score(y_test, y_pred_poly_svm)\n",
        "  print(f\"Accuracy Score: \\n {poly_svm_acc_score} \\n\")\n",
        "\n",
        "  poly_svm_cm = confusion_matrix(y_test, y_pred_poly_svm)\n",
        "  print(f\"Confusion Matrix: \\n {poly_svm_cm} \\n\")\n",
        "\n",
        "  poly_svm_cr = classification_report(y_test, y_pred_poly_svm)\n",
        "  print(f\"Classification Report: \\n {poly_svm_cr} \\n\")\n"
      ],
      "metadata": {
        "id": "doPCbujkDpaP",
        "colab": {
          "base_uri": "https://localhost:8080/"
        },
        "outputId": "77ffc58c-87fc-4a35-8cd4-1d89dd8a52ea"
      },
      "execution_count": null,
      "outputs": [
        {
          "output_type": "stream",
          "name": "stdout",
          "text": [
            "Degree = 1\n",
            "Accuracy Score: \n",
            " 0.9735849056603774 \n",
            "\n",
            "Confusion Matrix: \n",
            " [[1673    5]\n",
            " [  44  133]] \n",
            "\n",
            "Classification Report: \n",
            "               precision    recall  f1-score   support\n",
            "\n",
            "         0.0       0.97      1.00      0.99      1678\n",
            "         1.0       0.96      0.75      0.84       177\n",
            "\n",
            "    accuracy                           0.97      1855\n",
            "   macro avg       0.97      0.87      0.92      1855\n",
            "weighted avg       0.97      0.97      0.97      1855\n",
            " \n",
            "\n",
            "Degree = 2\n",
            "Accuracy Score: \n",
            " 0.9703504043126685 \n",
            "\n",
            "Confusion Matrix: \n",
            " [[1673    5]\n",
            " [  50  127]] \n",
            "\n",
            "Classification Report: \n",
            "               precision    recall  f1-score   support\n",
            "\n",
            "         0.0       0.97      1.00      0.98      1678\n",
            "         1.0       0.96      0.72      0.82       177\n",
            "\n",
            "    accuracy                           0.97      1855\n",
            "   macro avg       0.97      0.86      0.90      1855\n",
            "weighted avg       0.97      0.97      0.97      1855\n",
            " \n",
            "\n",
            "Degree = 3\n",
            "Accuracy Score: \n",
            " 0.9735849056603774 \n",
            "\n",
            "Confusion Matrix: \n",
            " [[1671    7]\n",
            " [  42  135]] \n",
            "\n",
            "Classification Report: \n",
            "               precision    recall  f1-score   support\n",
            "\n",
            "         0.0       0.98      1.00      0.99      1678\n",
            "         1.0       0.95      0.76      0.85       177\n",
            "\n",
            "    accuracy                           0.97      1855\n",
            "   macro avg       0.96      0.88      0.92      1855\n",
            "weighted avg       0.97      0.97      0.97      1855\n",
            " \n",
            "\n",
            "Degree = 4\n",
            "Accuracy Score: \n",
            " 0.969811320754717 \n",
            "\n",
            "Confusion Matrix: \n",
            " [[1671    7]\n",
            " [  49  128]] \n",
            "\n",
            "Classification Report: \n",
            "               precision    recall  f1-score   support\n",
            "\n",
            "         0.0       0.97      1.00      0.98      1678\n",
            "         1.0       0.95      0.72      0.82       177\n",
            "\n",
            "    accuracy                           0.97      1855\n",
            "   macro avg       0.96      0.86      0.90      1855\n",
            "weighted avg       0.97      0.97      0.97      1855\n",
            " \n",
            "\n",
            "Degree = 5\n",
            "Accuracy Score: \n",
            " 0.9708894878706199 \n",
            "\n",
            "Confusion Matrix: \n",
            " [[1669    9]\n",
            " [  45  132]] \n",
            "\n",
            "Classification Report: \n",
            "               precision    recall  f1-score   support\n",
            "\n",
            "         0.0       0.97      0.99      0.98      1678\n",
            "         1.0       0.94      0.75      0.83       177\n",
            "\n",
            "    accuracy                           0.97      1855\n",
            "   macro avg       0.95      0.87      0.91      1855\n",
            "weighted avg       0.97      0.97      0.97      1855\n",
            " \n",
            "\n"
          ]
        }
      ]
    },
    {
      "cell_type": "markdown",
      "source": [
        "degree 3 is the best."
      ],
      "metadata": {
        "id": "7ezPRyeFuHOq"
      }
    },
    {
      "cell_type": "markdown",
      "source": [
        "###Q5c Sigmoid Kernel"
      ],
      "metadata": {
        "id": "3RnH4YwDDt8_"
      }
    },
    {
      "cell_type": "markdown",
      "source": [
        "Apply Linear SVM for costs (C) = [0.1, 1, 10, 100, 1000], predict for the test set and check f1 score for each of the costs. State the best cost"
      ],
      "metadata": {
        "id": "0xQpdX-6D5By"
      }
    },
    {
      "cell_type": "code",
      "source": [
        "for i in range(len(costs)):\n",
        "  sig_svm = SVC(kernel='sigmoid', C=costs[i])\n",
        "  sig_svm.fit(X_train, y_train)\n",
        "\n",
        "  y_pred_sig_svm = sig_svm.predict(X_test)\n",
        "\n",
        "  print(f\"Cost = {costs[i]}\")\n",
        "\n",
        "  sig_svm_acc_score = accuracy_score(y_test, y_pred_sig_svm)\n",
        "  print(f\"Accuracy Score: \\n {sig_svm_acc_score} \\n\")\n",
        "\n",
        "  sig_svm_cm = confusion_matrix(y_test, y_pred_sig_svm)\n",
        "  print(f\"Confusion Matrix: \\n {sig_svm_cm} \\n\")\n",
        "\n",
        "  sig_svm_cr = classification_report(y_test, y_pred_sig_svm)\n",
        "  print(f\"Classification Report: \\n {sig_svm_cr} \\n\")\n"
      ],
      "metadata": {
        "id": "mtJYyYDRDRkA",
        "colab": {
          "base_uri": "https://localhost:8080/"
        },
        "outputId": "6ff17e2b-19df-4813-b316-c417a7b251b1"
      },
      "execution_count": null,
      "outputs": [
        {
          "output_type": "stream",
          "name": "stdout",
          "text": [
            "Cost = 0.1\n",
            "Accuracy Score: \n",
            " 0.8873315363881401 \n",
            "\n",
            "Confusion Matrix: \n",
            " [[1585   93]\n",
            " [ 116   61]] \n",
            "\n",
            "Classification Report: \n",
            "               precision    recall  f1-score   support\n",
            "\n",
            "         0.0       0.93      0.94      0.94      1678\n",
            "         1.0       0.40      0.34      0.37       177\n",
            "\n",
            "    accuracy                           0.89      1855\n",
            "   macro avg       0.66      0.64      0.65      1855\n",
            "weighted avg       0.88      0.89      0.88      1855\n",
            " \n",
            "\n",
            "Cost = 1\n",
            "Accuracy Score: \n",
            " 0.8814016172506739 \n",
            "\n",
            "Confusion Matrix: \n",
            " [[1572  106]\n",
            " [ 114   63]] \n",
            "\n",
            "Classification Report: \n",
            "               precision    recall  f1-score   support\n",
            "\n",
            "         0.0       0.93      0.94      0.93      1678\n",
            "         1.0       0.37      0.36      0.36       177\n",
            "\n",
            "    accuracy                           0.88      1855\n",
            "   macro avg       0.65      0.65      0.65      1855\n",
            "weighted avg       0.88      0.88      0.88      1855\n",
            " \n",
            "\n",
            "Cost = 10\n",
            "Accuracy Score: \n",
            " 0.8814016172506739 \n",
            "\n",
            "Confusion Matrix: \n",
            " [[1572  106]\n",
            " [ 114   63]] \n",
            "\n",
            "Classification Report: \n",
            "               precision    recall  f1-score   support\n",
            "\n",
            "         0.0       0.93      0.94      0.93      1678\n",
            "         1.0       0.37      0.36      0.36       177\n",
            "\n",
            "    accuracy                           0.88      1855\n",
            "   macro avg       0.65      0.65      0.65      1855\n",
            "weighted avg       0.88      0.88      0.88      1855\n",
            " \n",
            "\n",
            "Cost = 100\n",
            "Accuracy Score: \n",
            " 0.8814016172506739 \n",
            "\n",
            "Confusion Matrix: \n",
            " [[1572  106]\n",
            " [ 114   63]] \n",
            "\n",
            "Classification Report: \n",
            "               precision    recall  f1-score   support\n",
            "\n",
            "         0.0       0.93      0.94      0.93      1678\n",
            "         1.0       0.37      0.36      0.36       177\n",
            "\n",
            "    accuracy                           0.88      1855\n",
            "   macro avg       0.65      0.65      0.65      1855\n",
            "weighted avg       0.88      0.88      0.88      1855\n",
            " \n",
            "\n",
            "Cost = 1000\n",
            "Accuracy Score: \n",
            " 0.8814016172506739 \n",
            "\n",
            "Confusion Matrix: \n",
            " [[1572  106]\n",
            " [ 114   63]] \n",
            "\n",
            "Classification Report: \n",
            "               precision    recall  f1-score   support\n",
            "\n",
            "         0.0       0.93      0.94      0.93      1678\n",
            "         1.0       0.37      0.36      0.36       177\n",
            "\n",
            "    accuracy                           0.88      1855\n",
            "   macro avg       0.65      0.65      0.65      1855\n",
            "weighted avg       0.88      0.88      0.88      1855\n",
            " \n",
            "\n"
          ]
        }
      ]
    },
    {
      "cell_type": "markdown",
      "source": [
        "cost 0.1 is the best."
      ],
      "metadata": {
        "id": "Hag8IGYguTFU"
      }
    },
    {
      "cell_type": "markdown",
      "source": [
        "###Q5d RBF Kernel"
      ],
      "metadata": {
        "id": "xtz9KvY6AcE9"
      }
    },
    {
      "cell_type": "markdown",
      "source": [
        "Apply Linear SVM for costs (C) = [0.1, 1, 10, 100, 1000], predict for the test set and check f1 score for each of the costs. State the best cost"
      ],
      "metadata": {
        "id": "S85NYKGkDj0D"
      }
    },
    {
      "cell_type": "code",
      "source": [
        "for i in range(len(costs)):\n",
        "  rbf_svm = SVC(kernel='rbf', C=costs[i])\n",
        "  rbf_svm.fit(X_train, y_train)\n",
        "\n",
        "  y_pred_rbf_svm = rbf_svm.predict(X_test)\n",
        "\n",
        "  print(f\"Cost = {costs[i]}\")\n",
        "\n",
        "  rbf_svm_acc_score = accuracy_score(y_test, y_pred_rbf_svm)\n",
        "  print(f\"Accuracy Score: \\n {rbf_svm_acc_score} \\n\")\n",
        "\n",
        "  rbf_svm_cm = confusion_matrix(y_test, y_pred_rbf_svm)\n",
        "  print(f\"Confusion Matrix: \\n {rbf_svm_cm} \\n\")\n",
        "\n",
        "  rbf_svm_cr = classification_report(y_test, y_pred_rbf_svm)\n",
        "  print(f\"Classification Report: \\n {rbf_svm_cr} \\n\")"
      ],
      "metadata": {
        "id": "oeA1eR798Z7f",
        "colab": {
          "base_uri": "https://localhost:8080/"
        },
        "outputId": "8d170031-5b66-4ecb-f309-c5bc56ca4bcd"
      },
      "execution_count": null,
      "outputs": [
        {
          "output_type": "stream",
          "name": "stdout",
          "text": [
            "Cost = 0.1\n",
            "Accuracy Score: \n",
            " 0.9741239892183289 \n",
            "\n",
            "Confusion Matrix: \n",
            " [[1675    3]\n",
            " [  45  132]] \n",
            "\n",
            "Classification Report: \n",
            "               precision    recall  f1-score   support\n",
            "\n",
            "         0.0       0.97      1.00      0.99      1678\n",
            "         1.0       0.98      0.75      0.85       177\n",
            "\n",
            "    accuracy                           0.97      1855\n",
            "   macro avg       0.98      0.87      0.92      1855\n",
            "weighted avg       0.97      0.97      0.97      1855\n",
            " \n",
            "\n",
            "Cost = 1\n",
            "Accuracy Score: \n",
            " 0.9762803234501348 \n",
            "\n",
            "Confusion Matrix: \n",
            " [[1670    8]\n",
            " [  36  141]] \n",
            "\n",
            "Classification Report: \n",
            "               precision    recall  f1-score   support\n",
            "\n",
            "         0.0       0.98      1.00      0.99      1678\n",
            "         1.0       0.95      0.80      0.87       177\n",
            "\n",
            "    accuracy                           0.98      1855\n",
            "   macro avg       0.96      0.90      0.93      1855\n",
            "weighted avg       0.98      0.98      0.98      1855\n",
            " \n",
            "\n",
            "Cost = 10\n",
            "Accuracy Score: \n",
            " 0.9746630727762803 \n",
            "\n",
            "Confusion Matrix: \n",
            " [[1668   10]\n",
            " [  37  140]] \n",
            "\n",
            "Classification Report: \n",
            "               precision    recall  f1-score   support\n",
            "\n",
            "         0.0       0.98      0.99      0.99      1678\n",
            "         1.0       0.93      0.79      0.86       177\n",
            "\n",
            "    accuracy                           0.97      1855\n",
            "   macro avg       0.96      0.89      0.92      1855\n",
            "weighted avg       0.97      0.97      0.97      1855\n",
            " \n",
            "\n",
            "Cost = 100\n",
            "Accuracy Score: \n",
            " 0.9752021563342318 \n",
            "\n",
            "Confusion Matrix: \n",
            " [[1668   10]\n",
            " [  36  141]] \n",
            "\n",
            "Classification Report: \n",
            "               precision    recall  f1-score   support\n",
            "\n",
            "         0.0       0.98      0.99      0.99      1678\n",
            "         1.0       0.93      0.80      0.86       177\n",
            "\n",
            "    accuracy                           0.98      1855\n",
            "   macro avg       0.96      0.90      0.92      1855\n",
            "weighted avg       0.97      0.98      0.97      1855\n",
            " \n",
            "\n",
            "Cost = 1000\n",
            "Accuracy Score: \n",
            " 0.9741239892183289 \n",
            "\n",
            "Confusion Matrix: \n",
            " [[1667   11]\n",
            " [  37  140]] \n",
            "\n",
            "Classification Report: \n",
            "               precision    recall  f1-score   support\n",
            "\n",
            "         0.0       0.98      0.99      0.99      1678\n",
            "         1.0       0.93      0.79      0.85       177\n",
            "\n",
            "    accuracy                           0.97      1855\n",
            "   macro avg       0.95      0.89      0.92      1855\n",
            "weighted avg       0.97      0.97      0.97      1855\n",
            " \n",
            "\n"
          ]
        }
      ]
    },
    {
      "cell_type": "markdown",
      "source": [
        "cost 1 is the best."
      ],
      "metadata": {
        "id": "yfypatPQubw8"
      }
    },
    {
      "cell_type": "markdown",
      "source": [
        "The best kernel is rbf with cost 1."
      ],
      "metadata": {
        "id": "cF4koHm6uwWM"
      }
    }
  ]
}